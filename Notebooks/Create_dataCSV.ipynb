{
 "cells": [
  {
   "cell_type": "code",
   "execution_count": 1,
   "metadata": {},
   "outputs": [],
   "source": [
    "import csv\n",
    "from skimage import io\n",
    "import os\n",
    "import numpy as np\n",
    "import mahotas.features.texture as texture\n",
    "import csv"
   ]
  },
  {
   "cell_type": "code",
   "execution_count": 15,
   "metadata": {},
   "outputs": [],
   "source": []
  },
  {
   "cell_type": "code",
   "execution_count": 16,
   "metadata": {},
   "outputs": [],
   "source": [
    "def write_data_to_csv(dataset, output_file, fieldnames):\n",
    "    with open(output_file, 'w', newline='') as csvfile:\n",
    "        writer = csv.DictWriter(csvfile, fieldnames=fieldnames)\n",
    "        writer.writeheader()\n",
    "        writer.writerows(dataset)"
   ]
  },
  {
   "cell_type": "code",
   "execution_count": 20,
   "metadata": {},
   "outputs": [],
   "source": [
    "\n",
    "fieldnames = ['contrast', 'energy', 'intensity', 'label']\n",
    "\n",
    "\n",
    "output_file = 'datos.csv'"
   ]
  },
  {
   "cell_type": "code",
   "execution_count": 22,
   "metadata": {},
   "outputs": [],
   "source": [
    "for subfolder in subfolders:\n",
    "    subfolder_path = os.path.join(source_folder, subfolder)\n",
    "    image_files = os.listdir(subfolder_path)\n",
    "    \n",
    "    for image_file in image_files:\n",
    "        image_path = os.path.join(subfolder_path, image_file)\n",
    "        image = io.imread(image_path, as_gray=True).astype(np.uint8)\n",
    "\n",
    "        glcm = texture.haralick(image)\n",
    "        contrast = np.mean(glcm[:, 2])\n",
    "        energy = np.mean(glcm[:, 4])   \n",
    "\n",
    "        intensity = np.mean(image)\n",
    "        \n",
    "        data = {\n",
    "            'contrast': float(contrast),\n",
    "            'energy': float(energy),\n",
    "            'intensity': float(intensity),\n",
    "            'label': subfolder\n",
    "        }\n",
    "\n",
    "        dataset.append(data)\n",
    "\n",
    "write_data_to_csv(dataset, output_file, fieldnames)"
   ]
  },
  {
   "cell_type": "code",
   "execution_count": null,
   "metadata": {},
   "outputs": [],
   "source": []
  },
  {
   "cell_type": "code",
   "execution_count": null,
   "metadata": {},
   "outputs": [],
   "source": []
  }
 ],
 "metadata": {
  "kernelspec": {
   "display_name": "Python 3",
   "language": "python",
   "name": "python3"
  },
  "language_info": {
   "codemirror_mode": {
    "name": "ipython",
    "version": 3
   },
   "file_extension": ".py",
   "mimetype": "text/x-python",
   "name": "python",
   "nbconvert_exporter": "python",
   "pygments_lexer": "ipython3",
   "version": "3.10.7"
  },
  "orig_nbformat": 4
 },
 "nbformat": 4,
 "nbformat_minor": 2
}
