{
 "cells": [
  {
   "cell_type": "code",
   "execution_count": 5,
   "metadata": {},
   "outputs": [],
   "source": [
    "import json\n",
    "from skimage import io\n",
    "import os\n",
    "import numpy as np\n",
    "import mahotas.features.texture as texture"
   ]
  },
  {
   "cell_type": "code",
   "execution_count": 18,
   "metadata": {},
   "outputs": [],
   "source": [
    "source_folder = 'C:/Users/norma/Documents/IA-DETECCION_DE_ALZHEIMER-Proyecto/DATASET'\n",
    "destination_file = 'dataset.json'\n",
    "dataset = []\n",
    "subfolders = ['Mild_Demented', 'Moderate_Demented', 'Non_Demented', 'Very_Mild_Demented']"
   ]
  },
  {
   "cell_type": "code",
   "execution_count": 20,
   "metadata": {},
   "outputs": [],
   "source": [
    "for subfolder in subfolders:\n",
    "    subfolder_path = os.path.join(source_folder, subfolder)\n",
    "    image_files = os.listdir(subfolder_path)\n",
    "    \n",
    "    for image_file in image_files:\n",
    "        image_path = os.path.join(subfolder_path, image_file)\n",
    "        image = io.imread(image_path, as_gray=True)\n",
    "\n",
    "        glcm = texture.haralick(image)\n",
    "        contrast = np.mean(glcm[:, 2])\n",
    "        energy = np.mean(glcm[:, 4])   \n",
    "\n",
    "        intensity = np.mean(image)\n",
    "        \n",
    "        data = {\n",
    "            'contrast': float(contrast),\n",
    "            'energy': float(energy),\n",
    "            'intensity': float(intensity),\n",
    "            'label': subfolder\n",
    "        }\n",
    "        dataset.append(data)"
   ]
  },
  {
   "cell_type": "code",
   "execution_count": null,
   "metadata": {},
   "outputs": [],
   "source": [
    "\n",
    "with open(destination_file, 'w') as json_file:\n",
    "    json.dump(dataset, json_file)"
   ]
  },
  {
   "cell_type": "code",
   "execution_count": null,
   "metadata": {},
   "outputs": [],
   "source": []
  }
 ],
 "metadata": {
  "kernelspec": {
   "display_name": "Python 3",
   "language": "python",
   "name": "python3"
  },
  "language_info": {
   "codemirror_mode": {
    "name": "ipython",
    "version": 3
   },
   "file_extension": ".py",
   "mimetype": "text/x-python",
   "name": "python",
   "nbconvert_exporter": "python",
   "pygments_lexer": "ipython3",
   "version": "3.10.7"
  },
  "orig_nbformat": 4
 },
 "nbformat": 4,
 "nbformat_minor": 2
}
