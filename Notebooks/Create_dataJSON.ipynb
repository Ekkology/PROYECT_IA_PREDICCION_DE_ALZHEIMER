{
 "cells": [
  {
   "cell_type": "code",
   "execution_count": 5,
   "metadata": {},
   "outputs": [],
   "source": [
    "import json\n",
    "from skimage import io\n",
    "import os\n",
    "import numpy as np\n",
    "import mahotas.features.texture as texture"
   ]
  },
  {
   "cell_type": "code",
   "execution_count": 10,
   "metadata": {},
   "outputs": [],
   "source": [
    "dataset = []\n",
    "image_folder = \"C:/Users/norma/Documents/IA-DETECCION_DE_ALZHEIMER-Proyecto/DATASET\""
   ]
  },
  {
   "cell_type": "code",
   "execution_count": 8,
   "metadata": {},
   "outputs": [
    {
     "ename": "FileNotFoundError",
     "evalue": "[WinError 3] The system cannot find the path specified: 'dataSet'",
     "output_type": "error",
     "traceback": [
      "\u001b[1;31m---------------------------------------------------------------------------\u001b[0m",
      "\u001b[1;31mFileNotFoundError\u001b[0m                         Traceback (most recent call last)",
      "Cell \u001b[1;32mIn[8], line 1\u001b[0m\n\u001b[1;32m----> 1\u001b[0m \u001b[39mfor\u001b[39;00m subfolder \u001b[39min\u001b[39;00m os\u001b[39m.\u001b[39;49mlistdir(image_folder):\n\u001b[0;32m      2\u001b[0m     subfolder_path \u001b[39m=\u001b[39m os\u001b[39m.\u001b[39mpath\u001b[39m.\u001b[39mjoin(image_folder, subfolder)\n\u001b[0;32m      3\u001b[0m     \u001b[39mif\u001b[39;00m os\u001b[39m.\u001b[39mpath\u001b[39m.\u001b[39misdir(subfolder_path):\n",
      "\u001b[1;31mFileNotFoundError\u001b[0m: [WinError 3] The system cannot find the path specified: 'dataSet'"
     ]
    }
   ],
   "source": [
    "for subfolder in os.listdir(image_folder):\n",
    "    subfolder_path = os.path.join(image_folder, subfolder)\n",
    "    if os.path.isdir(subfolder_path):\n",
    "        for filename in os.listdir(subfolder_path):\n",
    "            file_path = os.path.join(subfolder_path, filename)\n",
    "            if os.path.isfile(file_path):\n",
    "                image = io.imread(file_path, as_gray=True)\n",
    "                \n",
    "                \n",
    "                glcm = texture.haralick(image)\n",
    "                texture_features = np.mean(glcm, axis=0)\n",
    "                \n",
    "                data = {\n",
    "                    'texture_features': texture_features.tolist(),\n",
    "                    'label': subfolder\n",
    "                }\n",
    "                dataset.append(data)"
   ]
  },
  {
   "cell_type": "code",
   "execution_count": null,
   "metadata": {},
   "outputs": [],
   "source": [
    "\n",
    "with open('texture_dataset.json', 'w') as json_file:\n",
    "    json.dump(dataset, json_file)"
   ]
  },
  {
   "cell_type": "code",
   "execution_count": null,
   "metadata": {},
   "outputs": [],
   "source": []
  }
 ],
 "metadata": {
  "kernelspec": {
   "display_name": "Python 3",
   "language": "python",
   "name": "python3"
  },
  "language_info": {
   "codemirror_mode": {
    "name": "ipython",
    "version": 3
   },
   "file_extension": ".py",
   "mimetype": "text/x-python",
   "name": "python",
   "nbconvert_exporter": "python",
   "pygments_lexer": "ipython3",
   "version": "3.10.7"
  },
  "orig_nbformat": 4
 },
 "nbformat": 4,
 "nbformat_minor": 2
}
